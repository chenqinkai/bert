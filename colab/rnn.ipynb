{
  "nbformat": 4,
  "nbformat_minor": 0,
  "metadata": {
    "colab": {
      "name": "rnn.ipynb",
      "version": "0.3.2",
      "provenance": [],
      "collapsed_sections": [],
      "include_colab_link": true
    },
    "kernelspec": {
      "name": "python3",
      "display_name": "Python 3"
    },
    "accelerator": "GPU"
  },
  "cells": [
    {
      "cell_type": "markdown",
      "metadata": {
        "id": "view-in-github",
        "colab_type": "text"
      },
      "source": [
        "<a href=\"https://colab.research.google.com/github/chenqinkai/bert/blob/master/colab/rnn.ipynb\" target=\"_parent\"><img src=\"https://colab.research.google.com/assets/colab-badge.svg\" alt=\"Open In Colab\"/></a>"
      ]
    },
    {
      "cell_type": "markdown",
      "metadata": {
        "id": "OY6AM8hLeb_r",
        "colab_type": "text"
      },
      "source": [
        "import necesary libs and define some important hyper-params"
      ]
    },
    {
      "cell_type": "code",
      "metadata": {
        "id": "5tgB3xGoebS4",
        "colab_type": "code",
        "outputId": "e845cbcf-d267-4a9b-f268-d8938dbb9c66",
        "colab": {
          "base_uri": "https://localhost:8080/",
          "height": 35
        }
      },
      "source": [
        "import numpy as np\n",
        "np.random.seed(0)\n",
        "from keras.models import Sequential\n",
        "from keras.layers import LSTM, Dropout, Dense, GRU, SimpleRNN\n",
        "from keras.optimizers import Adam\n",
        "# to make sure that the generated model is the same for each time\n",
        "np.random.seed(1)\n",
        "import os\n",
        "import pandas as pd\n",
        "from matplotlib import pyplot as plt\n",
        "import tensorflow as tf\n",
        "\n",
        "MAX_LEN = 96  # @param {type:\"integer\"}\n",
        "EMBEDDING_SIZE = 768  # @param {type:\"integer\"}\n",
        "LAYER = 1 # @param {type:\"integer\"}\n",
        "WE_ARE_ON_GCP = True  # @param {type:\"boolean\"}\n",
        "USE_TUNED_MODEL = True # @param {type:\"boolean\"}\n",
        "REMOVE_SW = False # @param {type:\"boolean\"}\n",
        "\n",
        "if not WE_ARE_ON_GCP:\n",
        "    from generate_embedding import generate_embedding_to_file\n",
        "else:\n",
        "    from google.colab import auth\n",
        "    auth.authenticate_user()\n"
      ],
      "execution_count": 0,
      "outputs": [
        {
          "output_type": "stream",
          "text": [
            "Using TensorFlow backend.\n"
          ],
          "name": "stderr"
        }
      ]
    },
    {
      "cell_type": "markdown",
      "metadata": {
        "id": "oXfD8Ywwjwh7",
        "colab_type": "text"
      },
      "source": [
        "Check we are using which device"
      ]
    },
    {
      "cell_type": "code",
      "metadata": {
        "id": "cKdxcGzAjzMX",
        "colab_type": "code",
        "outputId": "69db5eba-a9c3-40b2-9e3c-685aa8c171eb",
        "colab": {
          "base_uri": "https://localhost:8080/",
          "height": 563
        }
      },
      "source": [
        "from tensorflow.python.client import device_lib\n",
        "print(device_lib.list_local_devices())"
      ],
      "execution_count": 0,
      "outputs": [
        {
          "output_type": "stream",
          "text": [
            "[name: \"/device:CPU:0\"\n",
            "device_type: \"CPU\"\n",
            "memory_limit: 268435456\n",
            "locality {\n",
            "}\n",
            "incarnation: 12322244735819278263\n",
            ", name: \"/device:XLA_CPU:0\"\n",
            "device_type: \"XLA_CPU\"\n",
            "memory_limit: 17179869184\n",
            "locality {\n",
            "}\n",
            "incarnation: 5882356126239071888\n",
            "physical_device_desc: \"device: XLA_CPU device\"\n",
            ", name: \"/device:XLA_GPU:0\"\n",
            "device_type: \"XLA_GPU\"\n",
            "memory_limit: 17179869184\n",
            "locality {\n",
            "}\n",
            "incarnation: 16120487038822505838\n",
            "physical_device_desc: \"device: XLA_GPU device\"\n",
            ", name: \"/device:GPU:0\"\n",
            "device_type: \"GPU\"\n",
            "memory_limit: 14800692839\n",
            "locality {\n",
            "  bus_id: 1\n",
            "  links {\n",
            "  }\n",
            "}\n",
            "incarnation: 12847702572666445882\n",
            "physical_device_desc: \"device: 0, name: Tesla T4, pci bus id: 0000:00:04.0, compute capability: 7.5\"\n",
            "]\n"
          ],
          "name": "stdout"
        }
      ]
    },
    {
      "cell_type": "markdown",
      "metadata": {
        "id": "7Ro6URjsetbg",
        "colab_type": "text"
      },
      "source": [
        "Some helper functions"
      ]
    },
    {
      "cell_type": "code",
      "metadata": {
        "id": "nGOqsUVte3jY",
        "colab_type": "code",
        "colab": {}
      },
      "source": [
        "def convert_to_one_hot(Y):\n",
        "    '''\n",
        "        Y: np.array\n",
        "        return: np.array\n",
        "    '''\n",
        "    Y_oh = np.zeros((Y.shape[0], 2))\n",
        "    Y_oh[:, 0] = 1 - Y\n",
        "    Y_oh[:, 1] = Y\n",
        "    return Y_oh\n",
        "\n",
        "\n",
        "def get_accuracy(y_pred, y_test, percentile=1.0):\n",
        "    df = pd.DataFrame()\n",
        "    df['pred'] = (y_pred[:, 1] - 0.5) * 2\n",
        "    df['test'] = (y_test - 0.5) * 2\n",
        "    upper = df['pred'].quantile(1 - percentile / 2.)\n",
        "    lower = df['pred'].quantile(percentile / 2.)\n",
        "    df = df[(df['pred'] >= upper) | (df['pred'] <= lower)]\n",
        "    correct = df[np.sign(df['pred']) == np.sign(df['test'])]\n",
        "    return correct.shape[0] / float(df.shape[0])\n",
        "\n",
        "\n",
        "def get_part_filename(file_path, part=1):\n",
        "    return file_path[:-4] + \"_part%d\" % part + \".npy\""
      ],
      "execution_count": 0,
      "outputs": []
    },
    {
      "cell_type": "markdown",
      "metadata": {
        "id": "OOSONte-fMhz",
        "colab_type": "text"
      },
      "source": [
        "Prepare train and test data"
      ]
    },
    {
      "cell_type": "code",
      "metadata": {
        "id": "M1wGWsXogLYV",
        "colab_type": "code",
        "outputId": "ad28269d-6e6f-46f7-ff06-6074aec8e4d7",
        "colab": {
          "base_uri": "https://localhost:8080/",
          "height": 52
        }
      },
      "source": [
        "# prepare dataframes for target\n",
        "if WE_ARE_ON_GCP:\n",
        "    data_dir = \"gs://bert-news-sentiment/reuters/horizon_3\"\n",
        "else:\n",
        "    pass\n",
        "train_tsv_name = \"training_horizon_3_percentile_10.tsv\"\n",
        "test_tsv_name = \"test_horizon_3.tsv\"\n",
        "\n",
        "with tf.gfile.Open(os.path.join(data_dir, train_tsv_name), 'r') as f_train:\n",
        "    df_train = pd.read_csv(f_train, index_col=0, sep='\\t')\n",
        "with tf.gfile.Open(os.path.join(data_dir, test_tsv_name), 'r') as f_test:\n",
        "    df_test = pd.read_csv(f_test, index_col=0, sep='\\t')\n",
        "\n",
        "    \n",
        "# prepare embeddings\n",
        "if WE_ARE_ON_GCP:\n",
        "    train_embedding_path = \"gs://bert-news-sentiment/rnn/embedding/training_horizon_3_percentile_10_%s_layer_%d_maxlen_%d%s.npy\" % (\"tuned\" if USE_TUNED_MODEL else \"base\", LAYER, MAX_LEN, \"_nostop\" if REMOVE_SW else \"\")\n",
        "    test_embedding_path = \"gs://bert-news-sentiment/rnn/embedding/test_horizon_3_%s_layer_%d_maxlen_%d%s.npy\" % (\"tuned\" if USE_TUNED_MODEL else \"base\", LAYER, MAX_LEN, \"_nostop\" if REMOVE_SW else \"\")\n",
        "else:\n",
        "    pass\n",
        "\n",
        "if MAX_LEN < 64:\n",
        "    with tf.gfile.Open(train_embedding_path, 'rb') as f_train_emb:\n",
        "        X_train = np.load(f_train_emb)\n",
        "    Y_train = df_train['Label'].values\n",
        "    Y_train_oh = convert_to_one_hot(Y_train)\n",
        "\n",
        "    with tf.gfile.Open(test_embedding_path, 'rb') as f_test_emb:\n",
        "        X_test = np.load(f_test_emb)\n",
        "    Y_test = df_test['Label'].values\n"
      ],
      "execution_count": 0,
      "outputs": [
        {
          "output_type": "stream",
          "text": [
            "/usr/local/lib/python3.6/dist-packages/IPython/core/interactiveshell.py:2718: DtypeWarning: Columns (5) have mixed types. Specify dtype option on import or set low_memory=False.\n",
            "  interactivity=interactivity, compiler=compiler, result=result)\n"
          ],
          "name": "stderr"
        }
      ]
    },
    {
      "cell_type": "markdown",
      "metadata": {
        "id": "_wVy3A1ArZFY",
        "colab_type": "text"
      },
      "source": [
        "Define model structure"
      ]
    },
    {
      "cell_type": "code",
      "metadata": {
        "id": "YbdnmBNgraWx",
        "colab_type": "code",
        "outputId": "b2e3d6ce-e512-4e0f-99da-85cba5abde6d",
        "cellView": "both",
        "colab": {
          "base_uri": "https://localhost:8080/",
          "height": 547
        }
      },
      "source": [
        "LSTM_L1_SIZE = 256 # @param {type:\"integer\"}\n",
        "LSTM_L2_SIZE = 128 # @param {type:\"integer\"}\n",
        "LSTM_L3_SIZE = 64 # @param {type:\"integer\"}\n",
        "LSTM_L4_SIZE = 0 # @param {type:\"integer\"}\n",
        "DROPOUT_RATE = 0.5 # @param {type:\"number\"}\n",
        "LEARNING_RATE = 2e-5 # @param {type:\"number\"}\n",
        "MODEL_TYPE = \"LSTM\" # @param {type:\"string\"}\n",
        "ACTIVATION = \"relu\" # @param {type:\"string\"}\n",
        "\n",
        "model_type_dict = {\n",
        "    \"LSTM\": LSTM,\n",
        "    \"GRU\": GRU,\n",
        "    \"RNN\": SimpleRNN\n",
        "}\n",
        "UNIT = model_type_dict[MODEL_TYPE]\n",
        "\n",
        "def get_model(input_shape=(MAX_LEN, EMBEDDING_SIZE)):\n",
        "    print(\"Start Initialzing Neural Network!\")\n",
        "    model = Sequential()\n",
        "    model.add(UNIT(LSTM_L1_SIZE, return_sequences=True,\n",
        "                   activation=ACTIVATION, input_shape=input_shape))\n",
        "    model.add(Dropout(DROPOUT_RATE))\n",
        "    model.add(UNIT(LSTM_L2_SIZE, return_sequences=(LSTM_L3_SIZE != 0), activation=ACTIVATION))\n",
        "    model.add(Dropout(DROPOUT_RATE))\n",
        "    if LSTM_L3_SIZE != 0:\n",
        "        model.add(UNIT(LSTM_L3_SIZE, return_sequences=(LSTM_L4_SIZE != 0), activation=ACTIVATION))\n",
        "        model.add(Dropout(DROPOUT_RATE))\n",
        "        if LSTM_L4_SIZE != 0:\n",
        "            model.add(UNIT(LSTM_L4_SIZE, return_sequences=False, activation=ACTIVATION))\n",
        "            model.add(Dropout(DROPOUT_RATE))\n",
        "    model.add(Dense(2, activation='softmax'))\n",
        "    model.compile(loss='categorical_crossentropy',\n",
        "                  optimizer=Adam(lr=LEARNING_RATE), metrics=['accuracy'])\n",
        "    return model\n",
        "\n",
        "model = get_model()\n",
        "print(model.summary())"
      ],
      "execution_count": 0,
      "outputs": [
        {
          "output_type": "stream",
          "text": [
            "Start Initialzing Neural Network!\n",
            "WARNING:tensorflow:From /usr/local/lib/python3.6/dist-packages/tensorflow/python/framework/op_def_library.py:263: colocate_with (from tensorflow.python.framework.ops) is deprecated and will be removed in a future version.\n",
            "Instructions for updating:\n",
            "Colocations handled automatically by placer.\n",
            "WARNING:tensorflow:From /usr/local/lib/python3.6/dist-packages/keras/backend/tensorflow_backend.py:3445: calling dropout (from tensorflow.python.ops.nn_ops) with keep_prob is deprecated and will be removed in a future version.\n",
            "Instructions for updating:\n",
            "Please use `rate` instead of `keep_prob`. Rate should be set to `rate = 1 - keep_prob`.\n",
            "_________________________________________________________________\n",
            "Layer (type)                 Output Shape              Param #   \n",
            "=================================================================\n",
            "lstm_1 (LSTM)                (None, 96, 256)           1049600   \n",
            "_________________________________________________________________\n",
            "dropout_1 (Dropout)          (None, 96, 256)           0         \n",
            "_________________________________________________________________\n",
            "lstm_2 (LSTM)                (None, 96, 128)           197120    \n",
            "_________________________________________________________________\n",
            "dropout_2 (Dropout)          (None, 96, 128)           0         \n",
            "_________________________________________________________________\n",
            "lstm_3 (LSTM)                (None, 64)                49408     \n",
            "_________________________________________________________________\n",
            "dropout_3 (Dropout)          (None, 64)                0         \n",
            "_________________________________________________________________\n",
            "dense_1 (Dense)              (None, 2)                 130       \n",
            "=================================================================\n",
            "Total params: 1,296,258\n",
            "Trainable params: 1,296,258\n",
            "Non-trainable params: 0\n",
            "_________________________________________________________________\n",
            "None\n"
          ],
          "name": "stdout"
        }
      ]
    },
    {
      "cell_type": "markdown",
      "metadata": {
        "id": "KKWwtbmKiyK5",
        "colab_type": "text"
      },
      "source": [
        "Launch RNN training"
      ]
    },
    {
      "cell_type": "code",
      "metadata": {
        "id": "-Vn0xalni2bJ",
        "colab_type": "code",
        "outputId": "a896f533-80c9-4eb9-af6e-549578cd2049",
        "colab": {
          "base_uri": "https://localhost:8080/",
          "height": 195
        }
      },
      "source": [
        "if MAX_LEN >= 64:\n",
        "    with tf.gfile.Open(train_embedding_path, 'rb') as f_train_emb:\n",
        "        X_train = np.load(f_train_emb)\n",
        "    Y_train = df_train['Label'].values\n",
        "    Y_train_oh = convert_to_one_hot(Y_train)\n",
        "\n",
        "EPOCH = 3 # @param {type:\"number\"}\n",
        "BATCH_SIZE = 128 # @param {type:\"integer\"}\n",
        "model.fit(x=X_train, y=Y_train_oh, epochs=EPOCH, batch_size=BATCH_SIZE, verbose=1)\n",
        "\n",
        "if MAX_LEN >= 64:\n",
        "    del X_train"
      ],
      "execution_count": 0,
      "outputs": [
        {
          "output_type": "stream",
          "text": [
            "WARNING:tensorflow:From /usr/local/lib/python3.6/dist-packages/tensorflow/python/ops/math_ops.py:3066: to_int32 (from tensorflow.python.ops.math_ops) is deprecated and will be removed in a future version.\n",
            "Instructions for updating:\n",
            "Use tf.cast instead.\n",
            "Epoch 1/3\n",
            "50000/50000 [==============================] - 186s 4ms/step - loss: 0.7044 - acc: 0.5861\n",
            "Epoch 2/3\n",
            "50000/50000 [==============================] - 183s 4ms/step - loss: 0.6855 - acc: 0.6112\n",
            "Epoch 3/3\n",
            "50000/50000 [==============================] - 182s 4ms/step - loss: 0.6921 - acc: 0.6155\n"
          ],
          "name": "stdout"
        }
      ]
    },
    {
      "cell_type": "markdown",
      "metadata": {
        "id": "cTn_2jcqi59u",
        "colab_type": "text"
      },
      "source": [
        "Save model, OOS prediction, then plot accuracy"
      ]
    },
    {
      "cell_type": "code",
      "metadata": {
        "id": "81njcjWQjHcH",
        "colab_type": "code",
        "outputId": "80b37fb4-45d7-46a9-805e-29700e675ad4",
        "colab": {
          "base_uri": "https://localhost:8080/",
          "height": 430
        }
      },
      "source": [
        "# save model\n",
        "from tensorflow.python.lib.io import file_io\n",
        "if WE_ARE_ON_GCP:\n",
        "    model_dir = \"gs://bert-news-sentiment/rnn/model/reuters/bert%s_label-010_emd-%d_maxlen-%d_lstm-%d-%d%s%s_drop-0%d_epoch-%d_lr-%d_batch-%d_layer-%d_%s%s_activation-%s\" % (\n",
        "        \"tuned\" if USE_TUNED_MODEL else \"\", EMBEDDING_SIZE, MAX_LEN, LSTM_L1_SIZE, LSTM_L2_SIZE, \"\" if LSTM_L3_SIZE == 0 else \"-%d\" % LSTM_L3_SIZE, \"\" if LSTM_L4_SIZE == 0 else \"-%d\" % LSTM_L4_SIZE, int(DROPOUT_RATE * 100), EPOCH, int(LEARNING_RATE * 1e5), BATCH_SIZE, LAYER, MODEL_TYPE.lower(), \"_nostop\" if REMOVE_SW else \"\", ACTIVATION)\n",
        "else:\n",
        "    model_dir = r\"D:\\data\\bert_news_sentiment\\reuters\\model\\bert%s_label-010_emd-%d_maxlen-%d_lstm-%d-%d_drop-0%d_epoch-%d_lr-%d_batch-%d_layer-%d%s\" % (\n",
        "        \"tuned\" if USE_TUNED_MODEL else \"\", EMBEDDING_SIZE, MAX_LEN, LSTM_L1_SIZE, LSTM_L2_SIZE, int(DROPOUT_RATE * 100), EPOCH, int(LEARNING_RATE * 1e5), BATCH_SIZE, LAYER, \"_nostop\" if REMOVE_SW else \"\")\n",
        "print(\"The model will be saved at: %s\" % model_dir)\n",
        "if not tf.gfile.Exists(model_dir):\n",
        "    tf.gfile.MakeDirs(model_dir)\n",
        "model.save(\"model.h5\")\n",
        "with file_io.FileIO('model.h5', mode='rb') as input_f:\n",
        "    with file_io.FileIO(os.path.join(model_dir, \"model.h5\"), mode='wb') as output_f:\n",
        "        output_f.write(input_f.read())\n",
        "print(\"model saved\")\n",
        "\n",
        "# out-of-sample prediction\n",
        "if MAX_LEN < 64:\n",
        "    y_pred = model.predict(X_test)\n",
        "    with tf.gfile.Open(os.path.join(model_dir, \"result.csv\"), 'w') as f_result:\n",
        "        pd.DataFrame(y_pred).to_csv(f_result, index=False, header=False)\n",
        "else:\n",
        "    print(\"predicting test set part 1\")\n",
        "    with tf.gfile.Open(get_part_filename(test_embedding_path, part=1), 'rb') as f_test_emb:\n",
        "        X_test_1 = np.load(f_test_emb)\n",
        "    y_pred_1 = model.predict(X_test_1)\n",
        "    del X_test_1\n",
        "    \n",
        "    print(\"predicting test set part 2\")\n",
        "    with tf.gfile.Open(get_part_filename(test_embedding_path, part=2), 'rb') as f_test_emb:\n",
        "        X_test_2 = np.load(f_test_emb)\n",
        "    y_pred_2 = model.predict(X_test_2)\n",
        "    del X_test_2\n",
        "    y_pred = np.append(y_pred_1, y_pred_2, axis=0)\n",
        "    Y_test = df_test['Label'].values\n",
        "\n",
        "print(\"saving prediction result\")\n",
        "with tf.gfile.Open(os.path.join(model_dir, \"pred.npy\"), 'w') as f_pred:\n",
        "    np.save(f_pred, y_pred)\n",
        "    \n",
        "# to plot and save plot\n",
        "print(\"plotting and saving result\")\n",
        "s_accuracy = pd.Series()\n",
        "for p in np.linspace(0.01, 1, 100):\n",
        "    s_accuracy.set_value(1 - p, get_accuracy(y_pred, Y_test, p))\n",
        "with tf.gfile.Open(os.path.join(model_dir, \"accuracy.csv\"), 'w') as f_accuracy:\n",
        "    s_accuracy.to_csv(f_accuracy)\n",
        "fig = plt.figure()\n",
        "s_accuracy.sort_index().plot()\n",
        "with tf.gfile.Open(os.path.join(model_dir, \"accuracy.png\"), 'w') as f_accuracy_plot:\n",
        "    fig.savefig(f_accuracy_plot)"
      ],
      "execution_count": 0,
      "outputs": [
        {
          "output_type": "stream",
          "text": [
            "The model will be saved at: gs://bert-news-sentiment/rnn/model/reuters/berttuned_label-010_emd-768_maxlen-96_lstm-256-128-64_drop-050_epoch-3_lr-2_batch-128_layer-1_lstm_activation-relu\n",
            "model saved\n",
            "predicting test set part 1\n",
            "predicting test set part 2\n",
            "saving prediction result\n",
            "plotting and saving result\n"
          ],
          "name": "stdout"
        },
        {
          "output_type": "stream",
          "text": [
            "/usr/local/lib/python3.6/dist-packages/ipykernel_launcher.py:45: FutureWarning: set_value is deprecated and will be removed in a future release. Please use .at[] or .iat[] accessors instead\n",
            "/usr/local/lib/python3.6/dist-packages/ipykernel_launcher.py:47: FutureWarning: The signature of `Series.to_csv` was aligned to that of `DataFrame.to_csv`, and argument 'header' will change its default value from False to True: please pass an explicit value to suppress this warning.\n"
          ],
          "name": "stderr"
        },
        {
          "output_type": "display_data",
          "data": {
            "image/png": "[encoded data removed]",
            "text/plain": [
              "<Figure size 432x288 with 1 Axes>"
            ]
          },
          "metadata": {
            "tags": []
          }
        }
      ]
    }
  ]
}